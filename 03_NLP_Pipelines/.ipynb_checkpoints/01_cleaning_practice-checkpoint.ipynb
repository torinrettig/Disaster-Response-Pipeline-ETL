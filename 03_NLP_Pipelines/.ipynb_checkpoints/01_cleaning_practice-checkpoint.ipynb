{
 "cells": [
  {
   "cell_type": "markdown",
   "metadata": {},
   "source": [
    "# Cleaning Quiz: Udacity's Course Catalog\n",
    "It's your turn! Udacity's [course catalog page](https://www.udacity.com/courses/all) has changed since the last video was filmed. One notable change is the introduction of  _schools_.\n",
    "\n",
    "In this activity, you're going to perform similar actions with BeautifulSoup to extract the following information from each course listing on the page:\n",
    "1. The course name - e.g. \"Data Analyst\"\n",
    "2. The school the course belongs to - e.g. \"School of Data Science\"\n",
    "\n",
    "**Note: All solution notebooks can be found by clicking on the Jupyter icon on the top left of this workspace.**"
   ]
  },
  {
   "cell_type": "markdown",
   "metadata": {},
   "source": [
    "### Step 1: Get text from Udacity's course catalog web page\n",
    "You can use the `requests` library to do this.\n",
    "\n",
    "Outputting all the javascript, CSS, and text may overload the space available to load this notebook, so we omit a print statement here."
   ]
  },
  {
   "cell_type": "code",
   "execution_count": 7,
   "metadata": {
    "ExecuteTime": {
     "end_time": "2021-02-13T21:37:11.852072Z",
     "start_time": "2021-02-13T21:37:11.849742Z"
    }
   },
   "outputs": [],
   "source": [
    "# import statements\n",
    "import requests\n",
    "from bs4 import BeautifulSoup"
   ]
  },
  {
   "cell_type": "code",
   "execution_count": 2,
   "metadata": {
    "ExecuteTime": {
     "end_time": "2021-02-13T21:28:42.846084Z",
     "start_time": "2021-02-13T21:28:42.125850Z"
    }
   },
   "outputs": [],
   "source": [
    "# fetch web page\n",
    "r = requests.get('https://www.udacity.com/courses/all')"
   ]
  },
  {
   "cell_type": "markdown",
   "metadata": {},
   "source": [
    "### Step 2: Use BeautifulSoup to remove HTML tags\n",
    "Use `\"lxml\"` rather than `\"html5lib\"`.\n",
    "\n",
    "Again, printing this entire result may overload the space available to load this notebook, so we omit a print statement here."
   ]
  },
  {
   "cell_type": "code",
   "execution_count": 10,
   "metadata": {
    "ExecuteTime": {
     "end_time": "2021-02-13T21:39:57.351584Z",
     "start_time": "2021-02-13T21:39:57.117082Z"
    }
   },
   "outputs": [],
   "source": [
    "soup = BeautifulSoup(r.text, 'lxml')"
   ]
  },
  {
   "cell_type": "markdown",
   "metadata": {},
   "source": [
    "### Step 3: Find all course summaries\n",
    "Use the BeautifulSoup's `find_all` method to select based on tag type and class name. Just like in the video, you can right click on the item, and click \"Inspect\" to view its html on a web page."
   ]
  },
  {
   "cell_type": "code",
   "execution_count": 35,
   "metadata": {
    "ExecuteTime": {
     "end_time": "2021-02-13T22:04:49.456067Z",
     "start_time": "2021-02-13T22:04:49.415416Z"
    }
   },
   "outputs": [],
   "source": [
    "# Find all course summaries\n",
    "summaries = soup.find_all('li', attrs={'class':'catalog-cards__list__item'})"
   ]
  },
  {
   "cell_type": "code",
   "execution_count": 36,
   "metadata": {
    "ExecuteTime": {
     "end_time": "2021-02-13T22:04:49.999317Z",
     "start_time": "2021-02-13T22:04:49.996788Z"
    }
   },
   "outputs": [
    {
     "name": "stdout",
     "output_type": "stream",
     "text": [
      "Number of Courses: 253\n"
     ]
    }
   ],
   "source": [
    "print('Number of Courses:', len(summaries))"
   ]
  },
  {
   "cell_type": "markdown",
   "metadata": {},
   "source": [
    "### Step 4: Inspect the first summary to find selectors for the course name and school\n",
    "Tip: `.prettify()` is a super helpful method BeautifulSoup provides to output html in a nicely indented form! Make sure to use `print()` to ensure whitespace is displayed properly."
   ]
  },
  {
   "cell_type": "code",
   "execution_count": 42,
   "metadata": {
    "ExecuteTime": {
     "end_time": "2021-02-14T20:34:51.027628Z",
     "start_time": "2021-02-14T20:34:51.023046Z"
    }
   },
   "outputs": [
    {
     "data": {
      "text/plain": [
       "bs4.element.ResultSet"
      ]
     },
     "execution_count": 42,
     "metadata": {},
     "output_type": "execute_result"
    }
   ],
   "source": [
    "type(summaries)"
   ]
  },
  {
   "cell_type": "code",
   "execution_count": 44,
   "metadata": {
    "ExecuteTime": {
     "end_time": "2021-02-14T20:35:35.141972Z",
     "start_time": "2021-02-14T20:35:35.138556Z"
    }
   },
   "outputs": [
    {
     "name": "stdout",
     "output_type": "stream",
     "text": [
      "<li class=\"catalog-cards__list__item\">\n",
      " <article class=\"catalog-component\" data-testid=\"catalog-card-component\">\n",
      "  <div class=\"catalog-component__card\">\n",
      "   <span class=\"catalog-card-tag--mobile\">\n",
      "    New Program!\n",
      "   </span>\n",
      "   <a aria-label=\"Data Engineer\" class=\"card__top\" data-testid=\"catalog-card-anchor\" href=\"/course/data-engineer-nanodegree--nd027\">\n",
      "    <div class=\"card__image-container\">\n",
      "     <div class=\"card__image-wrapper\">\n",
      "      <div class=\"card__image-overlay\" data-catalogtype=\"nanodegree\">\n",
      "      </div>\n",
      "      <div class=\"card__image\" style=\"background-image:url(data:image/png;base64,iVBORw0KGgoAAAANSUhEUgAAAAEAAAABAQMAAAAl21bKAAAAA1BMVEVMaXFNx9g6AAAAAXRSTlMAQObYZgAAAApJREFUeNpjYAAAAAIAAeUn3vwAAAAASUVORK5CYII)\">\n",
      "      </div>\n",
      "     </div>\n",
      "    </div>\n",
      "    <div class=\"card__title-container\">\n",
      "     <span class=\"catalog-card-tag--desktop\">\n",
      "      New\n",
      "     </span>\n",
      "     <h3 class=\"card__title__school greyed\">\n",
      "      School of Data Science\n",
      "     </h3>\n",
      "     <h2 class=\"card__title__nd-name\">\n",
      "      Data Engineer\n",
      "     </h2>\n",
      "    </div>\n",
      "    <div class=\"card__text-content\">\n",
      "     <section>\n",
      "      <h4 class=\"text-content__text greyed\">\n",
      "       Skills Covered\n",
      "      </h4>\n",
      "      <p class=\"text-content__text\">\n",
      "       Data Modeling, Data Pipelines, Data Lakes, Spark, Airflow\n",
      "      </p>\n",
      "     </section>\n",
      "     <section>\n",
      "      <h4 class=\"text-content__text greyed\">\n",
      "       In Collaboration With\n",
      "      </h4>\n",
      "      <p class=\"text-content__text\">\n",
      "       Insight\n",
      "      </p>\n",
      "     </section>\n",
      "    </div>\n",
      "   </a>\n",
      "   <div class=\"card__bottom\">\n",
      "    <button aria-controls=\"nd027-expandable-content\" aria-expanded=\"false\" class=\"card__bottom__button\">\n",
      "     Program Details\n",
      "    </button>\n",
      "    <div class=\"difficulty\">\n",
      "     <div aria-label=\"intermediate level\" data-level=\"intermediate\">\n",
      "     </div>\n",
      "     <small aria-hidden=\"true\">\n",
      "      intermediate\n",
      "     </small>\n",
      "    </div>\n",
      "   </div>\n",
      "  </div>\n",
      "  <div aria-hidden=\"true\" class=\"catalog-component__details\" id=\"nd027-expandable-content\">\n",
      "   <div class=\"details__layout\">\n",
      "    <p>\n",
      "     Data Engineering is the foundation for the new world of Big Data. Enroll now to build production-ready data infrastructure, an essential skill for advancing your data career.\n",
      "    </p>\n",
      "    <div class=\"layout__button-container\">\n",
      "     <div class=\"reviews\">\n",
      "     </div>\n",
      "     <a aria-label=\"Learn more about Data Engineer.\" class=\"button btn button--primary\" href=\"/course/data-engineer-nanodegree--nd027\" tabindex=\"-1\">\n",
      "      Learn More\n",
      "     </a>\n",
      "    </div>\n",
      "   </div>\n",
      "  </div>\n",
      " </article>\n",
      "</li>\n",
      "\n"
     ]
    }
   ],
   "source": [
    "# print the first summary in summaries\n",
    "print(summaries[0].prettify())"
   ]
  },
  {
   "cell_type": "markdown",
   "metadata": {},
   "source": [
    "Look for selectors that contain the courses title and school name text you want to extract. Then, use the `select_one` method on the summary object to pull out the html with those selectors. Afterwards, don't forget to do some extra cleaning to isolate the names (get rid of unnecessary html), as you saw in the last video."
   ]
  },
  {
   "cell_type": "code",
   "execution_count": 56,
   "metadata": {
    "ExecuteTime": {
     "end_time": "2021-02-14T20:42:22.928536Z",
     "start_time": "2021-02-14T20:42:22.922133Z"
    }
   },
   "outputs": [
    {
     "data": {
      "text/plain": [
       "'Data Engineer'"
      ]
     },
     "execution_count": 56,
     "metadata": {},
     "output_type": "execute_result"
    }
   ],
   "source": [
    "# Extract course title\n",
    "summaries[0].select_one(\"h2\").text"
   ]
  },
  {
   "cell_type": "code",
   "execution_count": 58,
   "metadata": {
    "ExecuteTime": {
     "end_time": "2021-02-14T20:42:32.276289Z",
     "start_time": "2021-02-14T20:42:32.272511Z"
    }
   },
   "outputs": [
    {
     "data": {
      "text/plain": [
       "'School of Data Science'"
      ]
     },
     "execution_count": 58,
     "metadata": {},
     "output_type": "execute_result"
    }
   ],
   "source": [
    "# Extract school\n",
    "summaries[0].select_one(\"h3\").text"
   ]
  },
  {
   "cell_type": "markdown",
   "metadata": {},
   "source": [
    "### Step 5: Collect names and schools of ALL course listings\n",
    "Reuse your code from the previous step, but now in a loop to extract the name and school from every course summary in `summaries`!"
   ]
  },
  {
   "cell_type": "code",
   "execution_count": 63,
   "metadata": {
    "ExecuteTime": {
     "end_time": "2021-02-14T20:45:20.857994Z",
     "start_time": "2021-02-14T20:45:20.760243Z"
    }
   },
   "outputs": [],
   "source": [
    "courses = []\n",
    "for summary in summaries:\n",
    "    # append name and school of each summary to courses list\n",
    "    courses.append((summary.select_one('h2').text, summary.select_one('h3').text))\n"
   ]
  },
  {
   "cell_type": "code",
   "execution_count": 64,
   "metadata": {
    "ExecuteTime": {
     "end_time": "2021-02-14T20:45:21.057306Z",
     "start_time": "2021-02-14T20:45:21.052081Z"
    }
   },
   "outputs": [
    {
     "name": "stdout",
     "output_type": "stream",
     "text": [
      "253 course summaries found. Sample:\n"
     ]
    },
    {
     "data": {
      "text/plain": [
       "[('Data Engineer', 'School of Data Science'),\n",
       " ('Data Analyst', 'School of Data Science'),\n",
       " ('Programming for Data Science with Python', 'School of Data Science'),\n",
       " ('Data Scientist', 'School of Data Science'),\n",
       " ('Introduction to Programming', 'School of Programming & Development'),\n",
       " ('Business Analytics', 'School of Business'),\n",
       " ('Product Manager', 'School of Business'),\n",
       " ('Digital Marketing', 'School of Business'),\n",
       " ('Artificial Intelligence for Trading', 'School of Artificial Intelligence'),\n",
       " ('UX Designer', 'School of Business'),\n",
       " ('Front End Web Developer', 'School of Programming & Development'),\n",
       " ('AI Programming with Python', 'School of Artificial Intelligence'),\n",
       " ('Machine Learning Engineer', 'School of Artificial Intelligence'),\n",
       " ('Deep Learning', 'School of Artificial Intelligence'),\n",
       " ('C++', 'School of Autonomous Systems'),\n",
       " ('Full Stack Web Developer', 'School of Programming & Development'),\n",
       " ('Self Driving Car Engineer', 'School of Autonomous Systems'),\n",
       " ('SQL', 'School of Data Science'),\n",
       " ('Data Structures and Algorithms', 'School of Programming & Development'),\n",
       " ('Data Product Manager', 'School of Business')]"
      ]
     },
     "execution_count": 64,
     "metadata": {},
     "output_type": "execute_result"
    }
   ],
   "source": [
    "# display results\n",
    "print(len(courses), \"course summaries found. Sample:\")\n",
    "courses[:20]"
   ]
  },
  {
   "cell_type": "code",
   "execution_count": null,
   "metadata": {},
   "outputs": [],
   "source": []
  }
 ],
 "metadata": {
  "kernelspec": {
   "display_name": "Python 3",
   "language": "python",
   "name": "python3"
  },
  "language_info": {
   "codemirror_mode": {
    "name": "ipython",
    "version": 3
   },
   "file_extension": ".py",
   "mimetype": "text/x-python",
   "name": "python",
   "nbconvert_exporter": "python",
   "pygments_lexer": "ipython3",
   "version": "3.7.6"
  },
  "toc": {
   "base_numbering": 1,
   "nav_menu": {},
   "number_sections": true,
   "sideBar": true,
   "skip_h1_title": false,
   "title_cell": "Table of Contents",
   "title_sidebar": "Contents",
   "toc_cell": false,
   "toc_position": {},
   "toc_section_display": true,
   "toc_window_display": false
  },
  "varInspector": {
   "cols": {
    "lenName": 16,
    "lenType": 16,
    "lenVar": 40
   },
   "kernels_config": {
    "python": {
     "delete_cmd_postfix": "",
     "delete_cmd_prefix": "del ",
     "library": "var_list.py",
     "varRefreshCmd": "print(var_dic_list())"
    },
    "r": {
     "delete_cmd_postfix": ") ",
     "delete_cmd_prefix": "rm(",
     "library": "var_list.r",
     "varRefreshCmd": "cat(var_dic_list()) "
    }
   },
   "types_to_exclude": [
    "module",
    "function",
    "builtin_function_or_method",
    "instance",
    "_Feature"
   ],
   "window_display": false
  }
 },
 "nbformat": 4,
 "nbformat_minor": 2
}
